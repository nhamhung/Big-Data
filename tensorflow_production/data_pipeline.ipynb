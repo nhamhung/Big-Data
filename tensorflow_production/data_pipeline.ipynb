{
 "cells": [
  {
   "cell_type": "code",
   "execution_count": 1,
   "source": [
    "import tensorflow as tf\n",
    "\n",
    "print(tf.__version__)"
   ],
   "outputs": [
    {
     "output_type": "stream",
     "name": "stderr",
     "text": [
      "2021-09-06 21:10:38.009280: W tensorflow/stream_executor/platform/default/dso_loader.cc:64] Could not load dynamic library 'libcudart.so.11.0'; dlerror: libcudart.so.11.0: cannot open shared object file: No such file or directory\n",
      "2021-09-06 21:10:38.009315: I tensorflow/stream_executor/cuda/cudart_stub.cc:29] Ignore above cudart dlerror if you do not have a GPU set up on your machine.\n"
     ]
    },
    {
     "output_type": "stream",
     "name": "stdout",
     "text": [
      "2.5.0\n"
     ]
    }
   ],
   "metadata": {}
  },
  {
   "cell_type": "markdown",
   "source": [
    "# Features and Example protocol buffer"
   ],
   "metadata": {}
  },
  {
   "cell_type": "code",
   "execution_count": 5,
   "source": [
    "with open('story.txt') as f:\n",
    "  words = f.read().split()\n",
    "\n",
    "word_bytes = [word.encode() for word in words]\n",
    "words_feature = tf.train.Feature(\n",
    "  bytes_list=tf.train.BytesList(value=word_bytes)\n",
    ")\n",
    "# print(repr(words_feature))"
   ],
   "outputs": [],
   "metadata": {}
  },
  {
   "cell_type": "code",
   "execution_count": 6,
   "source": [
    "# Convert a dictionary of different features into an Example\n",
    "def dict_to_example(data_dict, config):\n",
    "    feature_dict = {}\n",
    "    for feature_name, value in data_dict.items():\n",
    "        feature_config = config[feature_name]\n",
    "        shape = feature_config['shape']\n",
    "        if shape == () or shape == []:\n",
    "            value = [value]\n",
    "        value_type = feature_config['type']\n",
    "        if value_type == 'int':\n",
    "            feature_dict[feature_name] = make_int_feature(value)\n",
    "        elif value_type == 'float':\n",
    "            feature_dict[feature_name] = make_float_feature(value)\n",
    "        elif value_type == 'string' or value_type == 'bytes':\n",
    "            feature_dict[feature_name] = make_bytes_feature(\n",
    "                value, value_type)\n",
    "    features = tf.train.Features(feature=feature_dict)\n",
    "    return tf.train.Example(features=features)\n",
    "\n",
    "\n",
    "def make_int_feature(value):\n",
    "    int_f = tf.train.Feature(\n",
    "        int64_list=tf.train.Int64List(value=value)\n",
    "    )\n",
    "    return int_f\n",
    "\n",
    "\n",
    "def make_float_feature(value):\n",
    "    return tf.train.Feature(\n",
    "        float_list=tf.train.FloatList(value=value)\n",
    "    )\n",
    "\n",
    "\n",
    "def make_bytes_feature(value, value_type):\n",
    "    # CODE HERE\n",
    "    if value_type == 'string':\n",
    "        value = [v.encode() for v in value]\n",
    "    return tf.train.Feature(\n",
    "        bytes_list=tf.train.BytesList(\n",
    "            value=value,\n",
    "        )\n",
    "    )\n"
   ],
   "outputs": [],
   "metadata": {}
  },
  {
   "cell_type": "code",
   "execution_count": 7,
   "source": [
    "def _bytes_feature(value):\n",
    "  \"\"\"Returns a bytes_list from a string / byte.\"\"\"\n",
    "  if isinstance(value, type(tf.constant(0))):\n",
    "    # BytesList won't unpack a string from an EagerTensor.\n",
    "    value = value.numpy()\n",
    "  return tf.train.Feature(bytes_list=tf.train.BytesList(value=[value]))\n",
    "\n",
    "\n",
    "def _float_feature(value):\n",
    "  \"\"\"Returns a float_list from a float / double.\"\"\"\n",
    "  return tf.train.Feature(float_list=tf.train.FloatList(value=[value]))\n",
    "\n",
    "\n",
    "def _int64_feature(value):\n",
    "  \"\"\"Returns an int64_list from a bool / enum / int / uint.\"\"\"\n",
    "  return tf.train.Feature(int64_list=tf.train.Int64List(value=[value]))\n"
   ],
   "outputs": [],
   "metadata": {}
  },
  {
   "cell_type": "markdown",
   "source": [
    "# TFRecord"
   ],
   "metadata": {}
  },
  {
   "cell_type": "code",
   "execution_count": 12,
   "source": [
    "\n",
    "print(_bytes_feature('test_string'.encode()))\n",
    "print(_int64_feature(1))\n"
   ],
   "outputs": [
    {
     "output_type": "stream",
     "name": "stdout",
     "text": [
      "bytes_list {\n",
      "  value: \"test_string\"\n",
      "}\n",
      "\n",
      "int64_list {\n",
      "  value: 1\n",
      "}\n",
      "\n"
     ]
    }
   ],
   "metadata": {}
  },
  {
   "cell_type": "code",
   "execution_count": 15,
   "source": [
    "def serialize_example(feature0, feature1, feature2, feature3):\n",
    "  \"\"\"\n",
    "  Creates a tf.train.Example message ready to be written to a file.\n",
    "  \"\"\"\n",
    "  # Create a dictionary mapping the feature name to the tf.train.Example-compatible\n",
    "  # data type.\n",
    "  feature = {\n",
    "      'feature0': _int64_feature(feature0),\n",
    "      'feature1': _int64_feature(feature1),\n",
    "      'feature2': _bytes_feature(feature2),\n",
    "      'feature3': _float_feature(feature3),\n",
    "  }\n",
    "\n",
    "  # Create a Features message using tf.train.Example.\n",
    "\n",
    "  example_proto = tf.train.Example(features=tf.train.Features(feature=feature))\n",
    "  return example_proto.SerializeToString()\n",
    "\n",
    "encoded = serialize_example(False, 4, b'goat', 0.2332) # return a byte string to be written to a file\n",
    "print(encoded)\n",
    "print()\n",
    "decoded = tf.train.Example.FromString(encoded)\n",
    "print(decoded)"
   ],
   "outputs": [
    {
     "output_type": "stream",
     "name": "stdout",
     "text": [
      "b'\\nR\\n\\x14\\n\\x08feature2\\x12\\x08\\n\\x06\\n\\x04goat\\n\\x11\\n\\x08feature0\\x12\\x05\\x1a\\x03\\n\\x01\\x00\\n\\x14\\n\\x08feature3\\x12\\x08\\x12\\x06\\n\\x04\\xfb\\xcbn>\\n\\x11\\n\\x08feature1\\x12\\x05\\x1a\\x03\\n\\x01\\x04'\n",
      "\n",
      "features {\n",
      "  feature {\n",
      "    key: \"feature0\"\n",
      "    value {\n",
      "      int64_list {\n",
      "        value: 0\n",
      "      }\n",
      "    }\n",
      "  }\n",
      "  feature {\n",
      "    key: \"feature1\"\n",
      "    value {\n",
      "      int64_list {\n",
      "        value: 4\n",
      "      }\n",
      "    }\n",
      "  }\n",
      "  feature {\n",
      "    key: \"feature2\"\n",
      "    value {\n",
      "      bytes_list {\n",
      "        value: \"goat\"\n",
      "      }\n",
      "    }\n",
      "  }\n",
      "  feature {\n",
      "    key: \"feature3\"\n",
      "    value {\n",
      "      float_list {\n",
      "        value: 0.23319999873638153\n",
      "      }\n",
      "    }\n",
      "  }\n",
      "}\n",
      "\n"
     ]
    }
   ],
   "metadata": {}
  },
  {
   "cell_type": "code",
   "execution_count": 19,
   "source": [
    "filename = 'test.tfrecord'\n",
    "writer = tf.io.TFRecordWriter(filename)\n",
    "writer.write(encoded)\n",
    "writer.close()"
   ],
   "outputs": [],
   "metadata": {}
  },
  {
   "cell_type": "markdown",
   "source": [
    "# Reading and writing data with tf.data"
   ],
   "metadata": {}
  },
  {
   "cell_type": "code",
   "execution_count": null,
   "source": [],
   "outputs": [],
   "metadata": {}
  }
 ],
 "metadata": {
  "orig_nbformat": 4,
  "language_info": {
   "name": "python",
   "version": "3.8.10",
   "mimetype": "text/x-python",
   "codemirror_mode": {
    "name": "ipython",
    "version": 3
   },
   "pygments_lexer": "ipython3",
   "nbconvert_exporter": "python",
   "file_extension": ".py"
  },
  "kernelspec": {
   "name": "python3",
   "display_name": "Python 3.8  ('rllib': conda)"
  },
  "interpreter": {
   "hash": "9cb579e4b532f2148b55a79a4ceb0e6a84a59176ef30515b7a57ab9d994c525d"
  }
 },
 "nbformat": 4,
 "nbformat_minor": 2
}